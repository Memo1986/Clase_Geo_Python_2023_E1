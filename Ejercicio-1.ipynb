{
 "cells": [
  {
   "cell_type": "markdown",
   "id": "952b1763-fc73-4424-8f3b-fed76bfb8e8f",
   "metadata": {},
   "source": [
    "## Ejercicio número 1"
   ]
  },
  {
   "cell_type": "markdown",
   "id": "b6c8dfb2-17e5-466b-8808-64bc3e3024d9",
   "metadata": {
    "tags": []
   },
   "source": [
    "## Creación de variables "
   ]
  },
  {
   "cell_type": "code",
   "execution_count": 12,
   "id": "591dd508-1d73-4289-9140-8d6b91b7c483",
   "metadata": {
    "tags": []
   },
   "outputs": [
    {
     "name": "stdout",
     "output_type": "stream",
     "text": [
      "8\n"
     ]
    }
   ],
   "source": [
    "# Crear variables\n",
    "# Variable tipo int\n",
    "ice_cream_rating = 8\n",
    "print(ice_cream_rating)"
   ]
  },
  {
   "cell_type": "code",
   "execution_count": 13,
   "id": "9270c978-8416-4e01-9749-02699756a6b6",
   "metadata": {
    "tags": []
   },
   "outputs": [
    {
     "name": "stdout",
     "output_type": "stream",
     "text": [
      "9.5\n"
     ]
    }
   ],
   "source": [
    "# Variable tipo float\n",
    "sleeping_rating = 9.5\n",
    "print(sleeping_rating)"
   ]
  },
  {
   "cell_type": "code",
   "execution_count": 37,
   "id": "13414be3-c08c-45db-a81d-7cb47a268187",
   "metadata": {
    "tags": []
   },
   "outputs": [
    {
     "name": "stdout",
     "output_type": "stream",
     "text": [
      "El Memo Moreno que trae el funk\n"
     ]
    }
   ],
   "source": [
    "# Crear nuestra primera varible string\n",
    "# Varible tipo string\n",
    "first_name = \"El Memo Moreno\"\n",
    "last_name = \"que trae el funk\"\n",
    "my_name = first_name + \" \" + last_name\n",
    "print(my_name)"
   ]
  },
  {
   "cell_type": "markdown",
   "id": "211b08b8-d450-4282-97f6-70524f6ce3c1",
   "metadata": {},
   "source": [
    "## Operaciones Matemáticas"
   ]
  },
  {
   "cell_type": "markdown",
   "id": "8b74f124-958a-45c7-9eac-1a339f1031ed",
   "metadata": {},
   "source": [
    "Calcular el promedio de las variables de *ice_cream_rating* y *sleeping_rating* y almacenar el resultado en una variable llamada *happines_rating*."
   ]
  },
  {
   "cell_type": "code",
   "execution_count": 24,
   "id": "06b9b0f6-2c55-415b-97fa-4f27d884f6bf",
   "metadata": {
    "tags": []
   },
   "outputs": [
    {
     "name": "stdout",
     "output_type": "stream",
     "text": [
      "8.75\n"
     ]
    }
   ],
   "source": [
    "# Promedio\n",
    "happines_rating = (ice_cream_rating+sleeping_rating)/2\n",
    "print(happines_rating)"
   ]
  },
  {
   "cell_type": "markdown",
   "id": "e5d85e8a-4509-4b31-932d-43468463a8e4",
   "metadata": {},
   "source": [
    "## Revisar el tipo de dato de cada variable"
   ]
  },
  {
   "cell_type": "markdown",
   "id": "33362e20-ad11-418d-87fc-d665854b3683",
   "metadata": {},
   "source": [
    "En este caso vamos a usar la función de `type()` que tiene Python."
   ]
  },
  {
   "cell_type": "code",
   "execution_count": 31,
   "id": "fc7e0746-4e5c-46f8-b4d6-3aedf7699244",
   "metadata": {
    "tags": []
   },
   "outputs": [
    {
     "name": "stdout",
     "output_type": "stream",
     "text": [
      "El tipo de dato de la variable ice_cream_rating es: <class 'int'>\n",
      "El tipo de dato de la variable sleeping_rating es: <class 'float'>\n",
      "El tipo de dato de la variable happines_ratin es: <class 'float'>\n",
      "El tipo de dato de la variable first_name es: <class 'str'>\n",
      "El tipo de dato de la variable happines_ratin es: <class 'str'>\n"
     ]
    }
   ],
   "source": [
    "# Revisar el tipo de datos de todas las variables\n",
    "print(\"El tipo de dato de la variable ice_cream_rating es:\", type(ice_cream_rating))\n",
    "print(\"El tipo de dato de la variable sleeping_rating es:\", type(sleeping_rating))\n",
    "print(\"El tipo de dato de la variable happines_ratin es:\", type(happines_rating))\n",
    "print(\"El tipo de dato de la variable first_name es:\", type(first_name))\n",
    "print(\"El tipo de dato de la variable happines_ratin es:\", type(last_name))"
   ]
  },
  {
   "cell_type": "markdown",
   "id": "2e889f7d-e99e-4d51-b4a6-d46c6185527f",
   "metadata": {},
   "source": [
    "## Combinar todas las variables e imprimir el resultado"
   ]
  },
  {
   "cell_type": "markdown",
   "id": "2cf92ba5-44f4-49c6-a772-74cb7491eea7",
   "metadata": {},
   "source": [
    "Por último vamos a crear una variable que pueda en que se combine una salida con texto y las variables creadas arriba."
   ]
  },
  {
   "cell_type": "code",
   "execution_count": 47,
   "id": "1719a0d5-309e-4a0e-a7fd-2ace7d15e1a0",
   "metadata": {
    "tags": []
   },
   "outputs": [
    {
     "name": "stdout",
     "output_type": "stream",
     "text": [
      "Mi nombre es El Memo Moreno que trae el funk, ¡Y a comer helado le doy una puntuación de 8 sobre 10!\n",
      "Mi nombre es El Memo Moreno que trae el funk, ¡Y mi calificación de disfrutar del domir es 9.5 sobre 10!\n",
      "Con base a los factores de arriba, mi clasificación de felicidad  es 8.75 , sobre 10!, o de 85.0 %\n"
     ]
    }
   ],
   "source": [
    "print(\"Mi nombre es\", first_name, last_name+\",\", \"¡Y a comer helado le doy una puntuación de\", ice_cream_rating,\n",
    "      \"sobre 10!\"\n",
    "     )\n",
    "print(\"Mi nombre es\", first_name, last_name+\",\", \"¡Y mi calificación de disfrutar del domir es\", sleeping_rating,\n",
    "      \"sobre 10!\",\n",
    "     )\n",
    "print(\"Con base a los factores de arriba, mi clasificación de felicidad es\", happines_rating,\",\",\n",
    "      \"sobre 10!, o de 85.0 %\",\n",
    "     )"
   ]
  },
  {
   "cell_type": "code",
   "execution_count": null,
   "id": "2ec2b0e8-993d-4cff-9547-50d66cdd01bf",
   "metadata": {},
   "outputs": [],
   "source": []
  }
 ],
 "metadata": {
  "kernelspec": {
   "display_name": "Python 3 (ipykernel)",
   "language": "python",
   "name": "python3"
  },
  "language_info": {
   "codemirror_mode": {
    "name": "ipython",
    "version": 3
   },
   "file_extension": ".py",
   "mimetype": "text/x-python",
   "name": "python",
   "nbconvert_exporter": "python",
   "pygments_lexer": "ipython3",
   "version": "3.10.12"
  }
 },
 "nbformat": 4,
 "nbformat_minor": 5
}
